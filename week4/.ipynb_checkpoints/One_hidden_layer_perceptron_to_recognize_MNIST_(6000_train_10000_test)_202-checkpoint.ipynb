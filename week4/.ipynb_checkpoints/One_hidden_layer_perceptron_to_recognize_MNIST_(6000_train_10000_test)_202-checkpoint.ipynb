{
 "cells": [
  {
   "cell_type": "code",
   "execution_count": 1,
   "metadata": {
    "colab": {},
    "colab_type": "code",
    "id": "0XjHF9X6KEK7"
   },
   "outputs": [],
   "source": [
    "#\n",
    "# Created July 17, 2018\n",
    "# Copyright S.W. Kim\n",
    "#\n",
    "import numpy as np\n",
    "import matplotlib.pyplot\n",
    "\n",
    "class Perceptron:\n",
    "    def __init__(self, input_dim, hidden_dim, output_dim, lr=0.01):\n",
    "        self.w1 =  np.random.normal(0.0, pow(2/(input_dim), 0.5), (input_dim, hidden_dim))\n",
    "        self.w2 =  np.random.normal(0.0, pow(2/(hidden_dim), 0.5), (hidden_dim, output_dim))\n",
    "        self.h = np.zeros((1,hidden_dim))\n",
    "        self.lr = lr\n",
    "        self.input_dim = input_dim\n",
    "        self.hidden_dim = hidden_dim\n",
    "        self.output_dim = output_dim        \n",
    "        self.theta = 0\n",
    "\n",
    "    def softmax(self, x):\n",
    "        e_x = np.exp(x - np.max(x))\n",
    "        return e_x / e_x.sum(axis=0) # only difference\n",
    "        \n",
    "    def sigmoid(self, x):\n",
    "        return 1/(1+np.exp(-x))\n",
    "    \n",
    "    #Leaky-Relu 활성화 함수\n",
    "    def l_relu(self,x):\n",
    "        x=np.where(x<=0,0.01*x,x)\n",
    "        return x\n",
    "\n",
    "    def feedforward(self, x):\n",
    "        a = x.astype(float)\n",
    "        b = self.w1.astype(float)\n",
    "        self.h = self.l_relu(np.dot(a, b)- self.theta)\n",
    "        return self.sigmoid(np.dot(self.h, self.w2)- self.theta)\n",
    "\n",
    "    def feedforward_upto_hidden(self, x):\n",
    "        return self.sigmoid(np.dot(x, self.w1)- self.theta)\n",
    "\n",
    "\n",
    "    def bprop_w2(self, g, y): # target, output\n",
    "        q = (y-g)*y*(1-y)\n",
    "        return np.dot(self.h.reshape(self.hidden_dim,1), q.reshape(1,self.output_dim))\n",
    "\n",
    "    def bprop_w1(self, g, y, x): # target, output, input\n",
    "        q1 = (y-g)*y*(1-y)\n",
    "        q2 = np.dot(self.w2, q1)\n",
    "        return np.dot(x.reshape(self.input_dim, 1), q2*np.where(self.h<=0,0.01,1).reshape(1,self.hidden_dim))\n",
    "    \n",
    "    def training(self, input, target):\n",
    "        x = np.array(input).T\n",
    "        y = self.feedforward(x)\n",
    "        g = np.array(target).T\n",
    "            \n",
    "        self.w1 = self.w1 - self.lr*self.bprop_w1(g, y, x)\n",
    "        self.w2 = self.w2 - self.lr*self.bprop_w2(g, y)"
   ]
  },
  {
   "cell_type": "code",
   "execution_count": 2,
   "metadata": {
    "colab": {},
    "colab_type": "code",
    "id": "XghQP8bcLh5P"
   },
   "outputs": [],
   "source": [
    "# Training\n",
    "input_dim = 784\n",
    "hidden_dim = 300\n",
    "output_dim = 10\n",
    "epoch = 10\n",
    "\n",
    "pct = Perceptron(784,300,10,lr=0.1)\n",
    "\n",
    "training_dataset_file = open(\"mnist_train.csv\", 'r')\n",
    "\n",
    "training_dataset_list = training_dataset_file.readlines()\n",
    "training_dataset_file.close()\n",
    "input_list = list()\n",
    "\n",
    "for k in range(epoch):\n",
    "    pct.lr = pct.lr * 0.8 # learning lrate decay\n",
    "    for i in training_dataset_list:\n",
    "        all_values = i.split(',')\n",
    "        inputs = (np.asfarray(all_values[1:])/255.0*1)+0\n",
    "        input_list.append(inputs)\n",
    "        \n",
    "        targets = np.zeros(output_dim) + 0\n",
    "        targets[int(all_values[0])] = 1\n",
    "        \n",
    "        pct.training(inputs, targets)"
   ]
  },
  {
   "cell_type": "code",
   "execution_count": 3,
   "metadata": {
    "colab": {},
    "colab_type": "code",
    "id": "TyEzYOnqLjuw"
   },
   "outputs": [],
   "source": [
    "# Test\n",
    "test_dataset_file = open(\"mnist_test.csv\", 'r')\n",
    "\n",
    "test_dataset_list = test_dataset_file.readlines()\n",
    "test_dataset_file.close()\n",
    "output_list = list()"
   ]
  },
  {
   "cell_type": "code",
   "execution_count": 4,
   "metadata": {
    "colab": {
     "base_uri": "https://localhost:8080/",
     "height": 70
    },
    "colab_type": "code",
    "id": "hgzdiLTVRglz",
    "outputId": "0d3e7049-23a8-45a1-9f57-b45eaab6cc71"
   },
   "outputs": [
    {
     "name": "stdout",
     "output_type": "stream",
     "text": [
      "7\n"
     ]
    },
    {
     "name": "stderr",
     "output_type": "stream",
     "text": [
      "/Users/jackyoung96/opt/anaconda3/lib/python3.7/site-packages/ipykernel_launcher.py:24: RuntimeWarning: overflow encountered in exp\n"
     ]
    },
    {
     "data": {
      "text/plain": [
       "array([0., 0., 0., 0., 0., 0., 0., 1., 0., 0.])"
      ]
     },
     "execution_count": 4,
     "metadata": {},
     "output_type": "execute_result"
    }
   ],
   "source": [
    "all_values = test_dataset_list[0].split(',')\n",
    "print(all_values[0])\n",
    "pct.feedforward(np.asfarray(all_values[1:]))"
   ]
  },
  {
   "cell_type": "code",
   "execution_count": 5,
   "metadata": {
    "colab": {
     "base_uri": "https://localhost:8080/",
     "height": 52
    },
    "colab_type": "code",
    "id": "iVCTBISCRiFN",
    "outputId": "d9f76865-12bc-42d9-efc3-a262c9120ae8"
   },
   "outputs": [
    {
     "name": "stderr",
     "output_type": "stream",
     "text": [
      "/Users/jackyoung96/opt/anaconda3/lib/python3.7/site-packages/ipykernel_launcher.py:24: RuntimeWarning: overflow encountered in exp\n"
     ]
    },
    {
     "name": "stdout",
     "output_type": "stream",
     "text": [
      "Reconition errio rate =  0.006166666666666667\n"
     ]
    }
   ],
   "source": [
    "# Training error rate\n",
    "success = 0\n",
    "failure = 0\n",
    "\n",
    "for i in training_dataset_list:\n",
    "    all_values = i.split(',')\n",
    "    target = int(all_values[0])\n",
    "    \n",
    "    #inputs = (np.asfarray(all_values[1:])/255.0*0.99)+0.01\n",
    "    prediction_list = pct.feedforward(np.asfarray(all_values[1:]))\n",
    "    prediction = np.argmax(prediction_list)\n",
    "    \n",
    "    if target == prediction:\n",
    "        success = success + 1\n",
    "        #print(\"Prediction is successful. (target, predcition) = \", target, prediction )\n",
    "    else:\n",
    "        failure = failure + 1\n",
    "        #print(\"Prediction fails. (target, predcition) = \", target, prediction )\n",
    "        \n",
    "print(\"Reconition errio rate = \", (failure/(success+failure)))"
   ]
  },
  {
   "cell_type": "code",
   "execution_count": 6,
   "metadata": {
    "colab": {
     "base_uri": "https://localhost:8080/",
     "height": 52
    },
    "colab_type": "code",
    "id": "jbBVUtmaRjks",
    "outputId": "b831b922-619e-49d2-ddb2-57a98a4aa464"
   },
   "outputs": [
    {
     "name": "stderr",
     "output_type": "stream",
     "text": [
      "/Users/jackyoung96/opt/anaconda3/lib/python3.7/site-packages/ipykernel_launcher.py:24: RuntimeWarning: overflow encountered in exp\n"
     ]
    },
    {
     "name": "stdout",
     "output_type": "stream",
     "text": [
      "Reconition errio rate =  0.019\n"
     ]
    }
   ],
   "source": [
    "# Test error rate\n",
    "success = 0\n",
    "failure = 0\n",
    "\n",
    "for i in test_dataset_list:\n",
    "    all_values = i.split(',')\n",
    "    target = int(all_values[0])\n",
    "    \n",
    "    #inputs = (np.asfarray(all_values[1:])/255.0*0.99)+0.01\n",
    "    prediction_list = pct.feedforward(np.asfarray(all_values[1:]))\n",
    "    prediction = np.argmax(prediction_list)\n",
    "    \n",
    "    if target == prediction:\n",
    "        success = success + 1\n",
    "        #print(\"Prediction is successful. (target, predcition) = \", target, prediction )\n",
    "    else:\n",
    "        failure = failure + 1\n",
    "        #print(\"Prediction fails. (target, predcition) = \", target, prediction )\n",
    "        \n",
    "print(\"Reconition errio rate = \", (failure/(success+failure)))"
   ]
  },
  {
   "cell_type": "code",
   "execution_count": 7,
   "metadata": {
    "colab": {},
    "colab_type": "code",
    "id": "kZnOay52R9YI"
   },
   "outputs": [],
   "source": [
    "import matplotlib.pyplot as plt\n",
    "\n"
   ]
  },
  {
   "cell_type": "code",
   "execution_count": 16,
   "metadata": {},
   "outputs": [
    {
     "name": "stdout",
     "output_type": "stream",
     "text": [
      "6\n"
     ]
    },
    {
     "name": "stderr",
     "output_type": "stream",
     "text": [
      "/Users/jackyoung96/opt/anaconda3/lib/python3.7/site-packages/ipykernel_launcher.py:24: RuntimeWarning: overflow encountered in exp\n"
     ]
    },
    {
     "data": {
      "image/png": "[encoded data removed]",
      "text/plain": [
       "<Figure size 432x288 with 1 Axes>"
      ]
     },
     "metadata": {
      "needs_background": "light"
     },
     "output_type": "display_data"
    }
   ],
   "source": [
    "num = 100\n",
    "my_test = np.asfarray(test_dataset_list[num].split(',')[1:])\n",
    "\n",
    "plt.figure()\n",
    "plt.imshow(my_test.reshape((28,28)))\n",
    "prediction_list = pct.feedforward(my_test)\n",
    "prediction = np.argmax(prediction_list)\n",
    "print(prediction)"
   ]
  },
  {
   "cell_type": "code",
   "execution_count": null,
   "metadata": {},
   "outputs": [],
   "source": []
  }
 ],
 "metadata": {
  "colab": {
   "name": "One hidden layer perceptron to recognize MNIST (6000 train 10000 test)_2020_Spring_Shin.ipynb",
   "provenance": []
  },
  "kernelspec": {
   "display_name": "Python 3",
   "language": "python",
   "name": "python3"
  },
  "language_info": {
   "codemirror_mode": {
    "name": "ipython",
    "version": 3
   },
   "file_extension": ".py",
   "mimetype": "text/x-python",
   "name": "python",
   "nbconvert_exporter": "python",
   "pygments_lexer": "ipython3",
   "version": "3.7.6"
  }
 },
 "nbformat": 4,
 "nbformat_minor": 1
}
